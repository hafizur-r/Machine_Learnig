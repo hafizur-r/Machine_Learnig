{
 "cells": [
  {
   "cell_type": "code",
   "execution_count": 1,
   "metadata": {},
   "outputs": [],
   "source": [
    "import csv\n",
    "import statistics as st\n",
    "import math\n",
    "import matplotlib.pyplot as plt\n",
    "import scipy.stats\n",
    "import numpy as np\n",
    "import statistics"
   ]
  },
  {
   "cell_type": "code",
   "execution_count": 2,
   "metadata": {},
   "outputs": [],
   "source": [
    "def loadCsv(filename):\n",
    "    lines = csv.reader(open(filename, \"r\"));\n",
    "    dataset = list(lines)\n",
    "    for i in range(len(dataset)):\n",
    "        dataset[i] = [float(x) for x in dataset[i]]\n",
    "    return dataset"
   ]
  },
  {
   "cell_type": "code",
   "execution_count": 3,
   "metadata": {},
   "outputs": [],
   "source": [
    "#The gaussian distribution\n",
    "def calprob(x, mean, stdev):\n",
    "    exponent = math.exp(-(math.pow(x-mean,2)/(2*math.pow(stdev,2))))\n",
    "    return (1 / (math.sqrt(2*math.pi) * stdev*stdev)) * exponent"
   ]
  },
  {
   "cell_type": "code",
   "execution_count": 4,
   "metadata": {},
   "outputs": [],
   "source": [
    "dataset=loadCsv('Naive-Bayes-Classification-Data.csv')\n",
    "#split ratio- the size of testing set\n",
    "size=0.01 \n",
    "#training set initialized as an empty list\n",
    "train=[] \n",
    "#testing set initialized as an empty list\n",
    "test=[]  "
   ]
  },
  {
   "cell_type": "code",
   "execution_count": 5,
   "metadata": {},
   "outputs": [
    {
     "name": "stdout",
     "output_type": "stream",
     "text": [
      "The lenth of the training set 985\n",
      "The length of the testing set 9\n"
     ]
    }
   ],
   "source": [
    "#splitting the dataset into training and testing\n",
    "for i in range(int(len(dataset)*size)):\n",
    "    test.append(dataset[i])\n",
    "for i in range(int(len(dataset)*size+1),len(dataset)):\n",
    "    train.append(dataset[i])\n",
    "print('The lenth of the training set',len(train))\n",
    "print('The length of the testing set',len(test))"
   ]
  },
  {
   "cell_type": "code",
   "execution_count": 6,
   "metadata": {},
   "outputs": [],
   "source": [
    "classes=[]\n",
    "for i in dataset:\n",
    "    if(i[-1] not in classes):\n",
    "        #list of all unique class values stored in the list named classes\n",
    "        classes.append(i[-1]) \n",
    "#dictionary that is intended to contain all the rows associated with each class value\n",
    "classdict={} \n",
    "#dictionary that is intended to contain (mean,standard deviation) of every attribute associated with each class value\n",
    "classdict1={}\n",
    "#dictionary that is intended to contain probabilites of the given sample falling into the class values\n",
    "classprob={}\n",
    "#initialization\n",
    "for i in classes:\n",
    "    classdict[i]=[]\n",
    "    classdict1[i]=[]\n",
    "    classprob[i]=1"
   ]
  },
  {
   "cell_type": "code",
   "execution_count": 7,
   "metadata": {},
   "outputs": [],
   "source": [
    "#for each class value, all the rows having that class value are appended\n",
    "for i in classes:\n",
    "    for row in train:\n",
    "        if row[-1]==i:\n",
    "            classdict[i].append(row[:-1])"
   ]
  },
  {
   "cell_type": "code",
   "execution_count": 8,
   "metadata": {},
   "outputs": [],
   "source": [
    "#for each class value, the tuple(mean, stdev) for each attribute is appended\n",
    "for classval,datt in classdict.items():\n",
    "    for col in zip(*datt):\n",
    "        classdict1[classval].append((st.mean(col),st.stdev(col)))"
   ]
  },
  {
   "cell_type": "code",
   "execution_count": 9,
   "metadata": {},
   "outputs": [
    {
     "name": "stdout",
     "output_type": "stream",
     "text": [
      "If diabetes value is 0, patient doesn't have diabetes. If the value is 1, patient has diabetes.\n",
      "\n",
      "\n",
      "Test No.: 1 \n",
      "\n",
      "For the values of glucose= 40.0 and bloodpressure= 85.0 , the patient doesn't have diabetes.\n",
      "The actual values:[glucose, bloodpressure, diabetes]= [40.0, 85.0, 0.0]\n",
      "---------------------------------------\n",
      "\n",
      "\n",
      "Test No.: 2 \n",
      "\n",
      "For the values of glucose= 40.0 and bloodpressure= 92.0 , the patient doesn't have diabetes.\n",
      "The actual values:[glucose, bloodpressure, diabetes]= [40.0, 92.0, 0.0]\n",
      "---------------------------------------\n",
      "\n",
      "\n",
      "Test No.: 3 \n",
      "\n",
      "For the values of glucose= 45.0 and bloodpressure= 63.0 , the patient have diabetes.\n",
      "The actual values:[glucose, bloodpressure, diabetes]= [45.0, 63.0, 1.0]\n",
      "---------------------------------------\n",
      "\n",
      "\n",
      "Test No.: 4 \n",
      "\n",
      "For the values of glucose= 45.0 and bloodpressure= 80.0 , the patient doesn't have diabetes.\n",
      "The actual values:[glucose, bloodpressure, diabetes]= [45.0, 80.0, 0.0]\n",
      "---------------------------------------\n",
      "\n",
      "\n",
      "Test No.: 5 \n",
      "\n",
      "For the values of glucose= 40.0 and bloodpressure= 73.0 , the patient have diabetes.\n",
      "The actual values:[glucose, bloodpressure, diabetes]= [40.0, 73.0, 1.0]\n",
      "---------------------------------------\n",
      "\n",
      "\n",
      "Test No.: 6 \n",
      "\n",
      "For the values of glucose= 45.0 and bloodpressure= 82.0 , the patient doesn't have diabetes.\n",
      "The actual values:[glucose, bloodpressure, diabetes]= [45.0, 82.0, 0.0]\n",
      "---------------------------------------\n",
      "\n",
      "\n",
      "Test No.: 7 \n",
      "\n",
      "For the values of glucose= 40.0 and bloodpressure= 85.0 , the patient doesn't have diabetes.\n",
      "The actual values:[glucose, bloodpressure, diabetes]= [40.0, 85.0, 0.0]\n",
      "---------------------------------------\n",
      "\n",
      "\n",
      "Test No.: 8 \n",
      "\n",
      "For the values of glucose= 30.0 and bloodpressure= 63.0 , the patient have diabetes.\n",
      "The actual values:[glucose, bloodpressure, diabetes]= [30.0, 63.0, 1.0]\n",
      "---------------------------------------\n",
      "\n",
      "\n",
      "Test No.: 9 \n",
      "\n",
      "For the values of glucose= 65.0 and bloodpressure= 65.0 , the patient have diabetes.\n",
      "The actual values:[glucose, bloodpressure, diabetes]= [65.0, 65.0, 1.0]\n",
      "---------------------------------------\n",
      "\n",
      "\n"
     ]
    }
   ],
   "source": [
    "print(\"If diabetes value is 0, patient doesn't have diabetes. If the value is 1, patient has diabetes.\")\n",
    "print(\"\\n\") \n",
    "count=0 #counter to count the number of correctly classified instances\n",
    "#calculating class probabilites\n",
    "for row in test:\n",
    "    for i in classes:\n",
    "        classprob[i]=1\n",
    "    for classval,datt in classdict1.items():\n",
    "        for i in range(len(row[:-1])):\n",
    "            mean,std=datt[i]\n",
    "            x=row[i]\n",
    "            classprob[classval]*=calprob(x,mean,std) #refer gaussian naive bayes theory\n",
    "    \n",
    "    if classprob[0]<classprob[1]:\n",
    "        print(\"Test No.:\", count+1,\"\\n\") \n",
    "        print(\"For the values of glucose=\", row[0], \"and bloodpressure=\", row[1], \", the patient have diabetes.\")\n",
    "        print(\"The actual values:[glucose, bloodpressure, diabetes]=\", row)\n",
    "        print(\"---------------------------------------\")\n",
    "        print(\"\\n\") \n",
    "    elif classprob[0]>classprob[1]:\n",
    "        print(\"Test No.:\", count+1,\"\\n\") \n",
    "        print(\"For the values of glucose=\", row[0], \"and bloodpressure=\", row[1], \", the patient doesn't have diabetes.\")\n",
    "        print(\"The actual values:[glucose, bloodpressure, diabetes]=\", row)\n",
    "        print(\"---------------------------------------\")\n",
    "        print(\"\\n\") \n",
    "    #calculating accuracy\n",
    "    mini=0\n",
    "    cl=0\n",
    "    for c,d in classprob.items():\n",
    "        if d>mini:\n",
    "            mini=d\n",
    "            cl=c\n",
    "\n",
    "    if row[-1]==cl:\n",
    "        count+=1"
   ]
  },
  {
   "cell_type": "code",
   "execution_count": 70,
   "metadata": {},
   "outputs": [
    {
     "name": "stdout",
     "output_type": "stream",
     "text": [
      "100 100\n"
     ]
    },
    {
     "data": {
      "image/png": "[encoded data removed]",
      "text/plain": [
       "<Figure size 432x288 with 1 Axes>"
      ]
     },
     "metadata": {
      "needs_background": "light"
     },
     "output_type": "display_data"
    }
   ],
   "source": [
    "x_min = 45 \n",
    "x_max = 100\n",
    "x = np.linspace(x_min, x_max, 100)\n",
    "y = scipy.stats.norm.pdf(x,mean,std)\n",
    "print(len(x), len(y))\n",
    "plt.plot(x,y, color='coral')\n",
    "plt.grid()\n",
    "plt.xlim(x_min,x_max)\n",
    "plt.ylim(0,.075)\n",
    "plt.title('Normal distribution of the dataset',fontsize=10)\n",
    "plt.xlabel('x')\n",
    "plt.ylabel('Frequency')\n",
    "plt.show()"
   ]
  },
  {
   "cell_type": "code",
   "execution_count": 48,
   "metadata": {},
   "outputs": [
    {
     "name": "stdout",
     "output_type": "stream",
     "text": [
      "Accuracy of classifier  1.0\n"
     ]
    }
   ],
   "source": [
    "acc=count/len(test)\n",
    "print(\"Accuracy of classifier \",acc)"
   ]
  },
  {
   "cell_type": "code",
   "execution_count": 87,
   "metadata": {},
   "outputs": [
    {
     "data": {
      "image/png": "[encoded data removed]",
      "text/plain": [
       "<Figure size 432x288 with 1 Axes>"
      ]
     },
     "metadata": {
      "needs_background": "light"
     },
     "output_type": "display_data"
    }
   ],
   "source": [
    "#Histogram of \n",
    "gulcose_d=[]\n",
    "gulcose_nd=[]\n",
    "for row in train:\n",
    "    if row[2]==0:\n",
    "        gulcose_d.append(int(row[0]))\n",
    "    elif row[2]==1:\n",
    "        gulcose_nd.append(int(row[0]))\n",
    "plt.hist(gulcose_d, bins=5)\n",
    "plt.hist(gulcose_nd, bins=5)\n",
    "plt.show()"
   ]
  },
  {
   "cell_type": "code",
   "execution_count": null,
   "metadata": {},
   "outputs": [],
   "source": [
    "#if user wants to input the values of gulcose and blood pressure and wants to know \n",
    "#that the patient has dibetes or not this section for manual inputs."
   ]
  }
 ],
 "metadata": {
  "kernelspec": {
   "display_name": "Python 3",
   "language": "python",
   "name": "python3"
  },
  "language_info": {
   "codemirror_mode": {
    "name": "ipython",
    "version": 3
   },
   "file_extension": ".py",
   "mimetype": "text/x-python",
   "name": "python",
   "nbconvert_exporter": "python",
   "pygments_lexer": "ipython3",
   "version": "3.7.6"
  }
 },
 "nbformat": 4,
 "nbformat_minor": 4
}
