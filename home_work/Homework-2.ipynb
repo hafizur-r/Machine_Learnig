{
 "cells": [
  {
   "cell_type": "markdown",
   "metadata": {},
   "source": [
    "## Homework-2\n",
    "### CSC-722: Machine Learning Fundamentals\n",
    "### Md Hafizur Rahman"
   ]
  },
  {
   "attachments": {},
   "cell_type": "markdown",
   "metadata": {},
   "source": [
    "### Problem Statement\n",
    "What’s the probability that the two dice values are 1 if the first die value is 1?"
   ]
  },
  {
   "cell_type": "markdown",
   "metadata": {},
   "source": [
    "### Python implementation:"
   ]
  },
  {
   "cell_type": "code",
   "execution_count": 14,
   "metadata": {},
   "outputs": [],
   "source": [
    "# import library\n",
    "import numpy as np\n",
    "from itertools import product"
   ]
  },
  {
   "cell_type": "code",
   "execution_count": 15,
   "metadata": {},
   "outputs": [],
   "source": [
    "# we have defined two die \n",
    "die_1 = [1,2,3,4,5,6]\n",
    "die_2 = [1,2,3,4,5,6]"
   ]
  },
  {
   "cell_type": "code",
   "execution_count": 16,
   "metadata": {},
   "outputs": [],
   "source": [
    "#We create a list of all possible outcome of rolling of two dice\n",
    "\"\"\"\n",
    "The list(iterations) constructor takes a single argument, iterations an \n",
    "object that could be a sequence (string, tuples) \n",
    "or collection (set, dictionary) or any iterator object\n",
    "\"\"\"\n",
    "two_die = list(product(die_1,die_2))"
   ]
  },
  {
   "cell_type": "code",
   "execution_count": 17,
   "metadata": {},
   "outputs": [
    {
     "name": "stdout",
     "output_type": "stream",
     "text": [
      "[(1, 1), (1, 2), (1, 3), (1, 4), (1, 5), (1, 6), (2, 1), (2, 2), (2, 3), (2, 4), (2, 5), (2, 6), (3, 1), (3, 2), (3, 3), (3, 4), (3, 5), (3, 6), (4, 1), (4, 2), (4, 3), (4, 4), (4, 5), (4, 6), (5, 1), (5, 2), (5, 3), (5, 4), (5, 5), (5, 6), (6, 1), (6, 2), (6, 3), (6, 4), (6, 5), (6, 6)]\n"
     ]
    }
   ],
   "source": [
    "#print the list\n",
    "print(two_die)"
   ]
  },
  {
   "cell_type": "code",
   "execution_count": 18,
   "metadata": {},
   "outputs": [
    {
     "name": "stdout",
     "output_type": "stream",
     "text": [
      "{(6, 1), (3, 1), (2, 1), (5, 1), (4, 1), (1, 1)}\n"
     ]
    }
   ],
   "source": [
    "#we have calculated all possible values of A. For that reason, we execute a for loop in two_die variables to find only 1 in \n",
    "#the second position of each value of tow_die \n",
    "#and stored that values in A. For example, we can define each element(in general) for two_die as (x,y) in the \n",
    "#second position means in x that must be 1. \n",
    "A = {om for om in two_die if om[1] ==1}\n",
    "print(A)"
   ]
  },
  {
   "cell_type": "code",
   "execution_count": 19,
   "metadata": {},
   "outputs": [
    {
     "name": "stdout",
     "output_type": "stream",
     "text": [
      "0.16666666666666666\n"
     ]
    }
   ],
   "source": [
    "#We have calculate the probability of A\n",
    "P_A = len(A)/len(two_die)\n",
    "print(P_A)"
   ]
  },
  {
   "cell_type": "code",
   "execution_count": 20,
   "metadata": {},
   "outputs": [
    {
     "name": "stdout",
     "output_type": "stream",
     "text": [
      "{(1, 2), (1, 3), (1, 4), (1, 5), (1, 6), (1, 1)}\n"
     ]
    }
   ],
   "source": [
    "#we have calculated all possible values of B. For that reason, we have executed a for loop in two_die variables to \n",
    "#find only 1 in the first position of each value of tow_die \n",
    "#and stored that values in B. For example, we can define each element(in general) for two_die as (x,y) in the \n",
    "#first position means in x that must be 1.\n",
    "B = {om for om in two_die if om[0] ==1}\n",
    "print(B)"
   ]
  },
  {
   "cell_type": "code",
   "execution_count": 21,
   "metadata": {},
   "outputs": [
    {
     "name": "stdout",
     "output_type": "stream",
     "text": [
      "0.16666666666666666\n"
     ]
    }
   ],
   "source": [
    "#We have calculate the probability of B\n",
    "P_B = len(B)/len(two_die)\n",
    "print(P_B)"
   ]
  },
  {
   "cell_type": "code",
   "execution_count": 22,
   "metadata": {},
   "outputs": [
    {
     "name": "stdout",
     "output_type": "stream",
     "text": [
      "{(1, 1)}\n"
     ]
    }
   ],
   "source": [
    "#We have calculate all possible values of (A and B)\n",
    "C = (A & B)\n",
    "print(C)"
   ]
  },
  {
   "cell_type": "code",
   "execution_count": 23,
   "metadata": {},
   "outputs": [],
   "source": [
    "#We have calculate the probability of the (A and B)\n",
    "P_C = len(C)/len(two_die)"
   ]
  },
  {
   "cell_type": "code",
   "execution_count": 13,
   "metadata": {},
   "outputs": [
    {
     "name": "stdout",
     "output_type": "stream",
     "text": [
      "0.16666666666666666\n"
     ]
    }
   ],
   "source": [
    "# We calculate the probability that the two dice values are 1 if the first die value is 1.\n",
    "P_D = P_C/P_B\n",
    "print(P_D)"
   ]
  },
  {
   "cell_type": "code",
   "execution_count": null,
   "metadata": {},
   "outputs": [],
   "source": []
  }
 ],
 "metadata": {
  "kernelspec": {
   "display_name": "Python 3",
   "language": "python",
   "name": "python3"
  },
  "language_info": {
   "codemirror_mode": {
    "name": "ipython",
    "version": 3
   },
   "file_extension": ".py",
   "mimetype": "text/x-python",
   "name": "python",
   "nbconvert_exporter": "python",
   "pygments_lexer": "ipython3",
   "version": "3.7.6"
  }
 },
 "nbformat": 4,
 "nbformat_minor": 2
}
