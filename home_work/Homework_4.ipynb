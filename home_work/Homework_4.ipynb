{
 "cells": [
  {
   "cell_type": "markdown",
   "metadata": {},
   "source": [
    "## Homework-4\n",
    "### CSC-722: Machine Learning Fundamentals\n",
    "### Md Hafizur Rahman"
   ]
  },
  {
   "cell_type": "markdown",
   "metadata": {},
   "source": [
    "\n",
    "###  1) Write a code to find norm 0, norm 1, norm 2, and norm infinity of the vectore x\n",
    "\n",
    "### Theory:\n",
    "In mathematics, a norm is a function from a vector space over the real or complex numbers to the nonnegative real numbers, that satisfies certain properties pertaining to scalability and additivity and takes the value zero only if the input vector is zero [1].\n",
    "\n",
    "On $R^n$ and $p≥1$, where R is real number and n=0,1,2... the p-norm is defined as\n",
    "\\begin{align}\n",
    "l_p=(\\sum_{j=1}^n|x_j|^p)^{1/p}\n",
    "\\end{align}\n",
    "\n",
    "In our case, we have to calculate $l_0$, $l_1$, $l_2$ and $l_\\inf$. X is a list of 10 random numbers between -10 and 10. So, j= 1,2,3...,10"
   ]
  },
  {
   "cell_type": "code",
   "execution_count": 42,
   "metadata": {},
   "outputs": [],
   "source": [
    "#importing the necessary libraries\n",
    "import numpy as np\n",
    "from scipy.sparse import csr_matrix"
   ]
  },
  {
   "cell_type": "code",
   "execution_count": 43,
   "metadata": {},
   "outputs": [
    {
     "name": "stdout",
     "output_type": "stream",
     "text": [
      "[  2   9  -9 -10   6  -5  -8  -9   5  -8]\n"
     ]
    }
   ],
   "source": [
    "#generating 10 random numbers of a list between -10 and 10.\n",
    "x = np.random.randint(-10, 10, 10)\n",
    "print(x)"
   ]
  },
  {
   "cell_type": "markdown",
   "metadata": {},
   "source": [
    "\n",
    "\n",
    "#### Norm-0:\n",
    "\n",
    "The $l_0$ norm corresponds to the total number of nonzero elements in a given vector.\n",
    "\n",
    "We have used count_nonzero method of numpy to find the norm-0."
   ]
  },
  {
   "cell_type": "code",
   "execution_count": 44,
   "metadata": {},
   "outputs": [
    {
     "name": "stdout",
     "output_type": "stream",
     "text": [
      "Norm-0 of the X is 10\n"
     ]
    }
   ],
   "source": [
    "norm_0=np.count_nonzero(x)\n",
    "print(\"Norm-0 of the X is\", norm_0)"
   ]
  },
  {
   "cell_type": "markdown",
   "metadata": {},
   "source": [
    "#### Norm-1:\n",
    "Norm-1 is also known as Manhattan Distance or Taxicab norm. L1 norm is the sum of the magnitudes of the vectors in a space. \n",
    "\n",
    "Mathematically,\n",
    "\n",
    "\\begin{align}\n",
    "l_1=(\\sum_{j=1}^n|x_j|)\n",
    "\\end{align}\n",
    "\n",
    "We used sum method of numpy to calculate the norm-1. abs() has to use for getting the absolute values of x. "
   ]
  },
  {
   "cell_type": "code",
   "execution_count": 45,
   "metadata": {},
   "outputs": [
    {
     "name": "stdout",
     "output_type": "stream",
     "text": [
      "Norm-1 of the X is 71\n"
     ]
    }
   ],
   "source": [
    "norm_1=sum(abs(x))\n",
    "print(\"Norm-1 of the X is\", norm_1)"
   ]
  },
  {
   "cell_type": "markdown",
   "metadata": {},
   "source": [
    "#### Norm-2:\n",
    "Norm-2 is also known as the Euclidean norm. It is the shortest distance to go from one point to another. \n",
    "\n",
    "Mathematically, we can write the $l_2$ norm as\n",
    "\n",
    "\\begin{align}\n",
    "l_2=(\\sum_{j=1}^n|x_j|^2)^{1/2}\n",
    "\\end{align}\n",
    "\n",
    "We used sum method of numpy to calculate the norm-1. abs() has to use for getting the absolute values of x. "
   ]
  },
  {
   "cell_type": "code",
   "execution_count": 46,
   "metadata": {},
   "outputs": [
    {
     "name": "stdout",
     "output_type": "stream",
     "text": [
      "Norm-2 of the X is 23.68543856465402\n"
     ]
    }
   ],
   "source": [
    "norm_2=(sum(x**2))**(1/2)\n",
    "print(\"Norm-2 of the X is\",norm_2) "
   ]
  },
  {
   "cell_type": "markdown",
   "metadata": {},
   "source": [
    "#### Norm-inf:\n",
    "Norm-inf gives the largest magnitude among each element of a vector. \n",
    "\n",
    "Mathematically, we can write $l_\\inf$ norm as\n",
    "\n",
    "\\begin{align}\n",
    "l_\\inf=max|x_j|\n",
    "\\end{align}\n",
    "\n",
    "We used max method of numpy to calculate the norm-inf. abs() has to use for getting the absolute values of x. "
   ]
  },
  {
   "cell_type": "code",
   "execution_count": 47,
   "metadata": {},
   "outputs": [
    {
     "name": "stdout",
     "output_type": "stream",
     "text": [
      "Norm-inf of the X is 10\n"
     ]
    }
   ],
   "source": [
    "norm_inf=max(abs(x))\n",
    "print(\"Norm-inf of the X is\",norm_inf)"
   ]
  },
  {
   "cell_type": "markdown",
   "metadata": {},
   "source": [
    "###  2) Explain the following cells \n",
    "###  3) Explain what they do and why"
   ]
  },
  {
   "cell_type": "markdown",
   "metadata": {},
   "source": [
    "If most of the elements in the matrix are zero then the matrix is called a sparse matrix. It is wasteful to store the zero elements in the matrix since they do not affect the results of our computation. This is why we implement these matrices in more efficient representations than the standard 2D Array. Using more efficient representations we can cut down space and time complexities of operations significantly without changing the main matrix[2]. We are disscusing the following example step by step."
   ]
  },
  {
   "cell_type": "markdown",
   "metadata": {},
   "source": [
    "At first, we generate a 3 $\\times$ 6 matrix and store in A. We are seeing that most of the elements of A are zero. We can create CSR matrix for A."
   ]
  },
  {
   "cell_type": "code",
   "execution_count": 48,
   "metadata": {},
   "outputs": [
    {
     "name": "stdout",
     "output_type": "stream",
     "text": [
      "[[1 0 0 1 0 0]\n",
      " [0 0 2 0 0 1]\n",
      " [0 0 0 2 0 0]]\n"
     ]
    }
   ],
   "source": [
    "A = np.array([[1, 0, 0, 1, 0, 0], [0, 0, 2, 0, 0, 1], [0, 0, 0, 2, 0, 0]])\n",
    "print(A)"
   ]
  },
  {
   "cell_type": "markdown",
   "metadata": {},
   "source": [
    "To create CSR matrix, we used csr_matrix function from numpy."
   ]
  },
  {
   "cell_type": "code",
   "execution_count": 49,
   "metadata": {},
   "outputs": [
    {
     "name": "stdout",
     "output_type": "stream",
     "text": [
      "  (0, 0)\t1\n",
      "  (0, 3)\t1\n",
      "  (1, 2)\t2\n",
      "  (1, 5)\t1\n",
      "  (2, 3)\t2\n"
     ]
    }
   ],
   "source": [
    "# convert to sparse matrix (CSR method)\n",
    "S = csr_matrix(A)\n",
    "print(S)"
   ]
  },
  {
   "cell_type": "markdown",
   "metadata": {},
   "source": [
    "From the result we can see that there are 5 items [consider in row] with value.\n",
    "The row and position start from 0.\n",
    "\n",
    "The 1. item is in row 0 position 0 and has the value 1.\n",
    "\n",
    "The 2. item is in row 0 position 3 and has the value 1.\n",
    "\n",
    "The 3. item is in row 1 position 2 and has the value 2.\n",
    "\n",
    "The 4. item is in row 1 position 5 and has the value 1.\n",
    "\n",
    "The 5. item is in row 2 position 3 and has the value 2.\n",
    "\n",
    "Therefore, this matrix S will take less space and reduce the time of computation."
   ]
  },
  {
   "cell_type": "markdown",
   "metadata": {},
   "source": [
    "We can reconstruct the orginal matrix A from S. For that we have used todense() function."
   ]
  },
  {
   "cell_type": "code",
   "execution_count": 39,
   "metadata": {},
   "outputs": [
    {
     "name": "stdout",
     "output_type": "stream",
     "text": [
      "[[1 0 0 1 0 0]\n",
      " [0 0 2 0 0 1]\n",
      " [0 0 0 2 0 0]]\n"
     ]
    }
   ],
   "source": [
    "# reconstruct dense matrix\n",
    "B = S.todense()\n",
    "print(B)"
   ]
  },
  {
   "cell_type": "markdown",
   "metadata": {},
   "source": [
    "#### Refs:\n",
    "[1] Bourbaki, Nicolas (1987) [1981]. Topological Vector Spaces: Chapters 1–5 [Sur certains espaces vectoriels topologiques]. Annales de l'Institut Fourier. Elements of mathematics. 2. Translated by Eggleston, H.G.; Madan, S. Berlin New York: Springer-Verlag. ISBN 978-3-540-42338-6. \n",
    "\n",
    "[2] Pissanetzky, Sergio (1984). Sparse Matrix Technology. Academic Press."
   ]
  },
  {
   "cell_type": "markdown",
   "metadata": {},
   "source": [
    "For the code please click the following link:\n",
    "\n",
    "https://github.com/hafizurr/Machine_Learnig_course/blob/master/home_work/Homework_4.ipynb"
   ]
  }
 ],
 "metadata": {
  "kernelspec": {
   "display_name": "Python 3",
   "language": "python",
   "name": "python3"
  },
  "language_info": {
   "codemirror_mode": {
    "name": "ipython",
    "version": 3
   },
   "file_extension": ".py",
   "mimetype": "text/x-python",
   "name": "python",
   "nbconvert_exporter": "python",
   "pygments_lexer": "ipython3",
   "version": "3.7.6"
  }
 },
 "nbformat": 4,
 "nbformat_minor": 4
}
